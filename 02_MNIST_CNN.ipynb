{
  "nbformat": 4,
  "nbformat_minor": 0,
  "metadata": {
    "kernelspec": {
      "display_name": "Python 3",
      "language": "python",
      "name": "python3"
    },
    "language_info": {
      "codemirror_mode": {
        "name": "ipython",
        "version": 3
      },
      "file_extension": ".py",
      "mimetype": "text/x-python",
      "name": "python",
      "nbconvert_exporter": "python",
      "pygments_lexer": "ipython3",
      "version": "3.6.5"
    },
    "colab": {
      "name": "02_MNIST_CNN.ipynb",
      "provenance": [],
      "collapsed_sections": []
    },
    "accelerator": "GPU"
  },
  "cells": [
    {
      "cell_type": "markdown",
      "metadata": {
        "id": "tN_qZn_73d5e"
      },
      "source": [
        "### 두번째 실습. Keras 모델 생성/학습 - MNIST : CNN\n",
        "[Keras Dataset](https://keras.io/ko/datasets/#mnist)"
      ]
    },
    {
      "cell_type": "code",
      "metadata": {
        "id": "Jgw6L1lu4gG5"
      },
      "source": [
        "import numpy as np\n",
        "import matplotlib.pyplot as plt"
      ],
      "execution_count": null,
      "outputs": []
    },
    {
      "cell_type": "code",
      "metadata": {
        "id": "kp4rZ8lX3d5f",
        "colab": {
          "base_uri": "https://localhost:8080/"
        },
        "outputId": "ef5d5d50-c57c-4fa9-f463-eb232a5f0cb3"
      },
      "source": [
        "# 1. 데이터 불러오기\n",
        "from keras.datasets import mnist\n",
        "\n",
        "(X_train, y_train), (X_test, y_test) = mnist.load_data()\n",
        "print('X_train.shape', X_train.shape)\n",
        "print('y_train.shape', y_test.shape)\n",
        "print('X_test.shape', X_train.shape)\n",
        "print('y_test.shape', y_test.shape)"
      ],
      "execution_count": null,
      "outputs": [
        {
          "output_type": "stream",
          "text": [
            "X_train.shape (60000, 28, 28)\n",
            "y_train.shape (10000,)\n",
            "X_test.shape (60000, 28, 28)\n",
            "y_test.shape (10000,)\n"
          ],
          "name": "stdout"
        }
      ]
    },
    {
      "cell_type": "code",
      "metadata": {
        "id": "dVkDhrW53d5f",
        "colab": {
          "base_uri": "https://localhost:8080/",
          "height": 283
        },
        "outputId": "7a47d8ca-3556-4a32-b879-9a384fa40fa0"
      },
      "source": [
        "# 2. 데이터 확인\n",
        "plt.imshow(X_train[0], cmap=plt.cm.gray)"
      ],
      "execution_count": null,
      "outputs": [
        {
          "output_type": "execute_result",
          "data": {
            "text/plain": [
              "<matplotlib.image.AxesImage at 0x7fbf88629278>"
            ]
          },
          "metadata": {
            "tags": []
          },
          "execution_count": 25
        },
        {
          "output_type": "display_data",
          "data": {
            "image/png": "[encoded data removed]",
            "text/plain": [
              "<Figure size 432x288 with 1 Axes>"
            ]
          },
          "metadata": {
            "tags": [],
            "needs_background": "light"
          }
        }
      ]
    },
    {
      "cell_type": "code",
      "metadata": {
        "id": "itVAaQ1c3d5f",
        "colab": {
          "base_uri": "https://localhost:8080/"
        },
        "outputId": "5ad31c3e-2df1-4be5-919a-0a17d6083d1e"
      },
      "source": [
        "# 3-1. 데이터 전처리 : 2차원 -> 3차원\n",
        "X_train_reshaped = X_train.reshape(-1, 28, 28, 1)    #흑백이니까 1\n",
        "X_test_reshaped = X_test.reshape(-1, 28, 28, 1)\n",
        "print('X_train_reshaped ',X_train_reshaped.shape)\n",
        "print('X_test_reshaped ',X_test_reshaped.shape)"
      ],
      "execution_count": null,
      "outputs": [
        {
          "output_type": "stream",
          "text": [
            "X_train_reshaped  (60000, 28, 28, 1)\n",
            "X_test_reshaped  (10000, 28, 28, 1)\n"
          ],
          "name": "stdout"
        }
      ]
    },
    {
      "cell_type": "code",
      "metadata": {
        "id": "sO8pmE_C3d5f"
      },
      "source": [
        "# 3-2. 데이터 전처리 : Normalzation \n",
        "\n",
        "X_train_reshaped = (X_train_reshaped-np.mean(X_train_reshaped))/np.std(X_train_reshaped)\n",
        "X_test_reshaped = (X_test_reshaped-np.mean(X_test_reshaped))/np.std(X_test_reshaped)"
      ],
      "execution_count": null,
      "outputs": []
    },
    {
      "cell_type": "code",
      "metadata": {
        "id": "u5VfuR833d5f"
      },
      "source": [
        "# 4. Label 전처리 (one-hot encoding) \n",
        "from keras.utils import to_categorical\n",
        "\n",
        "y_train_encoded = to_categorical(y_train)\n",
        "y_test_encoded = to_categorical(y_test)"
      ],
      "execution_count": null,
      "outputs": []
    },
    {
      "cell_type": "code",
      "metadata": {
        "id": "Sjv3w_ub3d5f",
        "colab": {
          "base_uri": "https://localhost:8080/"
        },
        "outputId": "386ba8b3-fab5-47cb-9f11-c67e15584247"
      },
      "source": [
        "# 5. 모델 생성 : CNN\n",
        "from tensorflow import keras\n",
        "# from keras import layers\n",
        "from keras.layers import Dense, Conv2D, MaxPooling2D, Flatten\n",
        "model = keras.Sequential()\n",
        "\n",
        "model.add(Conv2D(filters=32,\n",
        "                 kernel_size=(3,3),\n",
        "                 padding='same',          # same/valid\n",
        "                 activation='relu',\n",
        "                 input_shape=(28,28,1)))   \n",
        "model.add(Conv2D(32, (3,3),\n",
        "                 padding='same',\n",
        "                 activation='relu'))\n",
        "model.add(MaxPooling2D(pool_size=(2,2)))  #이미지 사이즈 줄여줌/\n",
        "model.add(Flatten())\n",
        "model.add(Dense(units=256, activation='relu'))\n",
        "model.add(Dense(10, activation='softmax'))\n",
        "model.summary()"
      ],
      "execution_count": null,
      "outputs": [
        {
          "output_type": "stream",
          "text": [
            "Model: \"sequential_8\"\n",
            "_________________________________________________________________\n",
            "Layer (type)                 Output Shape              Param #   \n",
            "=================================================================\n",
            "conv2d_12 (Conv2D)           (None, 28, 28, 32)        320       \n",
            "_________________________________________________________________\n",
            "conv2d_13 (Conv2D)           (None, 28, 28, 32)        9248      \n",
            "_________________________________________________________________\n",
            "max_pooling2d_5 (MaxPooling2 (None, 14, 14, 32)        0         \n",
            "_________________________________________________________________\n",
            "flatten_4 (Flatten)          (None, 6272)              0         \n",
            "_________________________________________________________________\n",
            "dense_6 (Dense)              (None, 256)               1605888   \n",
            "_________________________________________________________________\n",
            "dense_7 (Dense)              (None, 10)                2570      \n",
            "=================================================================\n",
            "Total params: 1,618,026\n",
            "Trainable params: 1,618,026\n",
            "Non-trainable params: 0\n",
            "_________________________________________________________________\n"
          ],
          "name": "stdout"
        }
      ]
    },
    {
      "cell_type": "code",
      "metadata": {
        "id": "GO5cfkH53d5f"
      },
      "source": [
        "# 6. Compile - Optimizer, Loss function 설정\n",
        "model.compile(optimizer='sgd',\n",
        "              loss='categorical_crossentropy',\n",
        "              metrics=['accuracy'])"
      ],
      "execution_count": null,
      "outputs": []
    },
    {
      "cell_type": "code",
      "metadata": {
        "id": "el-UT7wO3d5g",
        "colab": {
          "base_uri": "https://localhost:8080/"
        },
        "outputId": "7d24e33e-5305-4838-fe15-1e4389c4b259"
      },
      "source": [
        "# 7. 모델 학습\n",
        "batch_size =64\n",
        "epochs=50\n",
        "\n",
        "\n",
        "history = model.fit(X_train_reshaped, y_train_encoded,\n",
        "                    batch_size= batch_size,\n",
        "                    epochs=epochs,\n",
        "                    validation_split=0.2)"
      ],
      "execution_count": null,
      "outputs": [
        {
          "output_type": "stream",
          "text": [
            "Epoch 1/50\n",
            "750/750 [==============================] - 3s 4ms/step - loss: 0.3844 - accuracy: 0.8880 - val_loss: 0.1781 - val_accuracy: 0.9452\n",
            "Epoch 2/50\n",
            "750/750 [==============================] - 3s 4ms/step - loss: 0.1580 - accuracy: 0.9527 - val_loss: 0.1248 - val_accuracy: 0.9640\n",
            "Epoch 3/50\n",
            "750/750 [==============================] - 3s 4ms/step - loss: 0.1118 - accuracy: 0.9663 - val_loss: 0.1006 - val_accuracy: 0.9697\n",
            "Epoch 4/50\n",
            "750/750 [==============================] - 3s 4ms/step - loss: 0.0865 - accuracy: 0.9733 - val_loss: 0.0823 - val_accuracy: 0.9763\n",
            "Epoch 5/50\n",
            "750/750 [==============================] - 3s 4ms/step - loss: 0.0689 - accuracy: 0.9791 - val_loss: 0.0824 - val_accuracy: 0.9745\n",
            "Epoch 6/50\n",
            "750/750 [==============================] - 3s 4ms/step - loss: 0.0573 - accuracy: 0.9827 - val_loss: 0.0873 - val_accuracy: 0.9743\n",
            "Epoch 7/50\n",
            "750/750 [==============================] - 3s 4ms/step - loss: 0.0488 - accuracy: 0.9851 - val_loss: 0.0626 - val_accuracy: 0.9808\n",
            "Epoch 8/50\n",
            "750/750 [==============================] - 3s 4ms/step - loss: 0.0413 - accuracy: 0.9871 - val_loss: 0.0631 - val_accuracy: 0.9805\n",
            "Epoch 9/50\n",
            "750/750 [==============================] - 3s 4ms/step - loss: 0.0361 - accuracy: 0.9890 - val_loss: 0.0644 - val_accuracy: 0.9815\n",
            "Epoch 10/50\n",
            "750/750 [==============================] - 3s 4ms/step - loss: 0.0303 - accuracy: 0.9912 - val_loss: 0.0580 - val_accuracy: 0.9837\n",
            "Epoch 11/50\n",
            "750/750 [==============================] - 3s 4ms/step - loss: 0.0269 - accuracy: 0.9920 - val_loss: 0.0602 - val_accuracy: 0.9829\n",
            "Epoch 12/50\n",
            "750/750 [==============================] - 3s 4ms/step - loss: 0.0231 - accuracy: 0.9931 - val_loss: 0.0601 - val_accuracy: 0.9833\n",
            "Epoch 13/50\n",
            "750/750 [==============================] - 3s 4ms/step - loss: 0.0208 - accuracy: 0.9937 - val_loss: 0.0585 - val_accuracy: 0.9828\n",
            "Epoch 14/50\n",
            "750/750 [==============================] - 3s 4ms/step - loss: 0.0169 - accuracy: 0.9953 - val_loss: 0.0598 - val_accuracy: 0.9834\n",
            "Epoch 15/50\n",
            "750/750 [==============================] - 3s 4ms/step - loss: 0.0142 - accuracy: 0.9960 - val_loss: 0.0682 - val_accuracy: 0.9821\n",
            "Epoch 16/50\n",
            "750/750 [==============================] - 3s 4ms/step - loss: 0.0134 - accuracy: 0.9963 - val_loss: 0.0559 - val_accuracy: 0.9859\n",
            "Epoch 17/50\n",
            "750/750 [==============================] - 3s 4ms/step - loss: 0.0110 - accuracy: 0.9971 - val_loss: 0.0564 - val_accuracy: 0.9847\n",
            "Epoch 18/50\n",
            "750/750 [==============================] - 3s 4ms/step - loss: 0.0093 - accuracy: 0.9977 - val_loss: 0.0612 - val_accuracy: 0.9845\n",
            "Epoch 19/50\n",
            "750/750 [==============================] - 3s 4ms/step - loss: 0.0086 - accuracy: 0.9978 - val_loss: 0.0561 - val_accuracy: 0.9855\n",
            "Epoch 20/50\n",
            "750/750 [==============================] - 3s 4ms/step - loss: 0.0076 - accuracy: 0.9980 - val_loss: 0.0656 - val_accuracy: 0.9835\n",
            "Epoch 21/50\n",
            "750/750 [==============================] - 3s 4ms/step - loss: 0.0064 - accuracy: 0.9987 - val_loss: 0.0622 - val_accuracy: 0.9837\n",
            "Epoch 22/50\n",
            "750/750 [==============================] - 3s 4ms/step - loss: 0.0047 - accuracy: 0.9992 - val_loss: 0.0571 - val_accuracy: 0.9866\n",
            "Epoch 23/50\n",
            "750/750 [==============================] - 3s 4ms/step - loss: 0.0048 - accuracy: 0.9991 - val_loss: 0.0602 - val_accuracy: 0.9852\n",
            "Epoch 24/50\n",
            "750/750 [==============================] - 3s 4ms/step - loss: 0.0045 - accuracy: 0.9989 - val_loss: 0.0592 - val_accuracy: 0.9855\n",
            "Epoch 25/50\n",
            "750/750 [==============================] - 3s 4ms/step - loss: 0.0039 - accuracy: 0.9993 - val_loss: 0.0608 - val_accuracy: 0.9852\n",
            "Epoch 26/50\n",
            "750/750 [==============================] - 3s 4ms/step - loss: 0.0030 - accuracy: 0.9995 - val_loss: 0.0658 - val_accuracy: 0.9848\n",
            "Epoch 27/50\n",
            "750/750 [==============================] - 3s 4ms/step - loss: 0.0023 - accuracy: 0.9997 - val_loss: 0.0602 - val_accuracy: 0.9863\n",
            "Epoch 28/50\n",
            "750/750 [==============================] - 3s 4ms/step - loss: 0.0018 - accuracy: 0.9998 - val_loss: 0.0602 - val_accuracy: 0.9864\n",
            "Epoch 29/50\n",
            "750/750 [==============================] - 3s 4ms/step - loss: 0.0016 - accuracy: 0.9999 - val_loss: 0.0628 - val_accuracy: 0.9857\n",
            "Epoch 30/50\n",
            "750/750 [==============================] - 3s 4ms/step - loss: 0.0014 - accuracy: 0.9999 - val_loss: 0.0627 - val_accuracy: 0.9860\n",
            "Epoch 31/50\n",
            "750/750 [==============================] - 3s 4ms/step - loss: 0.0017 - accuracy: 0.9998 - val_loss: 0.0655 - val_accuracy: 0.9851\n",
            "Epoch 32/50\n",
            "750/750 [==============================] - 3s 4ms/step - loss: 0.0013 - accuracy: 0.9999 - val_loss: 0.0627 - val_accuracy: 0.9862\n",
            "Epoch 33/50\n",
            "750/750 [==============================] - 3s 4ms/step - loss: 0.0011 - accuracy: 0.9999 - val_loss: 0.0644 - val_accuracy: 0.9861\n",
            "Epoch 34/50\n",
            "750/750 [==============================] - 3s 4ms/step - loss: 9.0994e-04 - accuracy: 1.0000 - val_loss: 0.0649 - val_accuracy: 0.9861\n",
            "Epoch 35/50\n",
            "750/750 [==============================] - 3s 4ms/step - loss: 9.4342e-04 - accuracy: 1.0000 - val_loss: 0.0656 - val_accuracy: 0.9859\n",
            "Epoch 36/50\n",
            "750/750 [==============================] - 3s 4ms/step - loss: 8.6436e-04 - accuracy: 1.0000 - val_loss: 0.0662 - val_accuracy: 0.9861\n",
            "Epoch 37/50\n",
            "750/750 [==============================] - 3s 4ms/step - loss: 7.2797e-04 - accuracy: 1.0000 - val_loss: 0.0662 - val_accuracy: 0.9863\n",
            "Epoch 38/50\n",
            "750/750 [==============================] - 3s 4ms/step - loss: 7.1546e-04 - accuracy: 1.0000 - val_loss: 0.0669 - val_accuracy: 0.9861\n",
            "Epoch 39/50\n",
            "750/750 [==============================] - 3s 4ms/step - loss: 6.1600e-04 - accuracy: 1.0000 - val_loss: 0.0683 - val_accuracy: 0.9865\n",
            "Epoch 40/50\n",
            "750/750 [==============================] - 3s 4ms/step - loss: 6.0762e-04 - accuracy: 1.0000 - val_loss: 0.0680 - val_accuracy: 0.9857\n",
            "Epoch 41/50\n",
            "750/750 [==============================] - 3s 4ms/step - loss: 5.5073e-04 - accuracy: 1.0000 - val_loss: 0.0690 - val_accuracy: 0.9864\n",
            "Epoch 42/50\n",
            "750/750 [==============================] - 3s 4ms/step - loss: 5.1631e-04 - accuracy: 1.0000 - val_loss: 0.0692 - val_accuracy: 0.9861\n",
            "Epoch 43/50\n",
            "750/750 [==============================] - 3s 4ms/step - loss: 5.1746e-04 - accuracy: 1.0000 - val_loss: 0.0697 - val_accuracy: 0.9861\n",
            "Epoch 44/50\n",
            "750/750 [==============================] - 3s 4ms/step - loss: 4.6984e-04 - accuracy: 1.0000 - val_loss: 0.0690 - val_accuracy: 0.9860\n",
            "Epoch 45/50\n",
            "750/750 [==============================] - 3s 4ms/step - loss: 4.7439e-04 - accuracy: 1.0000 - val_loss: 0.0703 - val_accuracy: 0.9864\n",
            "Epoch 46/50\n",
            "750/750 [==============================] - 3s 4ms/step - loss: 4.7881e-04 - accuracy: 1.0000 - val_loss: 0.0700 - val_accuracy: 0.9865\n",
            "Epoch 47/50\n",
            "750/750 [==============================] - 3s 4ms/step - loss: 4.2680e-04 - accuracy: 1.0000 - val_loss: 0.0701 - val_accuracy: 0.9861\n",
            "Epoch 48/50\n",
            "750/750 [==============================] - 3s 4ms/step - loss: 4.0148e-04 - accuracy: 1.0000 - val_loss: 0.0712 - val_accuracy: 0.9860\n",
            "Epoch 49/50\n",
            "750/750 [==============================] - 3s 4ms/step - loss: 3.7741e-04 - accuracy: 1.0000 - val_loss: 0.0712 - val_accuracy: 0.9859\n",
            "Epoch 50/50\n",
            "750/750 [==============================] - 3s 4ms/step - loss: 3.7212e-04 - accuracy: 1.0000 - val_loss: 0.0716 - val_accuracy: 0.9860\n"
          ],
          "name": "stdout"
        }
      ]
    },
    {
      "cell_type": "code",
      "metadata": {
        "id": "vpUX3hBE3d5g",
        "colab": {
          "base_uri": "https://localhost:8080/"
        },
        "outputId": "a9c6f547-447b-4eae-83be-16cf852c3ce0"
      },
      "source": [
        "# 8. 모델 평가\n",
        "loss_test, acc_test = model.evaluate(X_test_reshaped, y_test_encoded)\n",
        "\n",
        "print('loss_test',loss_test)\n",
        "print('acc_test',acc_test)"
      ],
      "execution_count": null,
      "outputs": [
        {
          "output_type": "stream",
          "text": [
            "313/313 [==============================] - 1s 2ms/step - loss: 0.0555 - accuracy: 0.9864\n",
            "loss_test 0.05551757290959358\n",
            "acc_test 0.9864000082015991\n"
          ],
          "name": "stdout"
        }
      ]
    },
    {
      "cell_type": "code",
      "metadata": {
        "id": "lT6XOSgT3d5g",
        "colab": {
          "base_uri": "https://localhost:8080/",
          "height": 573
        },
        "outputId": "344b7eb8-ee49-4c4b-cb1d-d6d7793c0750"
      },
      "source": [
        "# 9. 학습 시각화\n",
        "plt.plot(history.history['accuracy'])\n",
        "plt.plot(history.history['val_accuracy'])\n",
        "\n",
        "plt.title('Accuracy')\n",
        "plt.ylabel('accuracy')\n",
        "plt.xlabel('epoch')\n",
        "plt.legend(['train', 'val'], loc = 'upper left')\n",
        "plt.show()\n",
        "\n",
        "plt.plot(history.history['loss'])\n",
        "plt.plot(history.history['val_loss'])\n",
        "\n",
        "plt.title('Loss')\n",
        "plt.ylabel('loss')\n",
        "plt.xlabel('epoch')\n",
        "plt.legend(['train', 'val'], loc = 'upper left')\n",
        "plt.show()\n"
      ],
      "execution_count": null,
      "outputs": [
        {
          "output_type": "display_data",
          "data": {
            "image/png": "[encoded data removed]",
            "text/plain": [
              "<Figure size 432x288 with 1 Axes>"
            ]
          },
          "metadata": {
            "tags": [],
            "needs_background": "light"
          }
        },
        {
          "output_type": "display_data",
          "data": {
            "image/png": "[encoded data removed]",
            "text/plain": [
              "<Figure size 432x288 with 1 Axes>"
            ]
          },
          "metadata": {
            "tags": [],
            "needs_background": "light"
          }
        }
      ]
    },
    {
      "cell_type": "code",
      "metadata": {
        "id": "_vMCkVt93d5g",
        "colab": {
          "base_uri": "https://localhost:8080/",
          "height": 677
        },
        "outputId": "2056fe8b-664a-41c0-9f67-826d4177ec0d"
      },
      "source": [
        "# 10. 이미지 랜덤 선택 -> 훈련된 모델로 예측\n",
        "for index in np.random.choice(len(y_test), 3, replace = False):\n",
        "    test_image = X_test[index].reshape(1, 28, 28,1)\n",
        "    predicted = model.predict(test_image)\n",
        "    label = y_test[index]\n",
        "    result_label = np.where(label == np.amax(label))\n",
        "    result_predicted = np.where(predicted == np.amax(predicted))\n",
        "    title = \"Label value = %s  Predicted value = %s \" % (label, result_predicted[1])\n",
        "    \n",
        "    fig = plt.figure(1, figsize = (3,3))\n",
        "    ax1 = fig.add_axes((0,0,.8,.8))\n",
        "    ax1.set_title(title)\n",
        "    images = X_test\n",
        "    plt.imshow(images[index].reshape(28, 28), cmap = 'Greys', interpolation = 'nearest')\n",
        "    plt.show()\n"
      ],
      "execution_count": null,
      "outputs": [
        {
          "output_type": "display_data",
          "data": {
            "image/png": "[encoded data removed]",
            "text/plain": [
              "<Figure size 216x216 with 1 Axes>"
            ]
          },
          "metadata": {
            "tags": [],
            "needs_background": "light"
          }
        },
        {
          "output_type": "display_data",
          "data": {
            "image/png": "[encoded data removed]",
            "text/plain": [
              "<Figure size 216x216 with 1 Axes>"
            ]
          },
          "metadata": {
            "tags": [],
            "needs_background": "light"
          }
        },
        {
          "output_type": "display_data",
          "data": {
            "image/png": "[encoded data removed]",
            "text/plain": [
              "<Figure size 216x216 with 1 Axes>"
            ]
          },
          "metadata": {
            "tags": [],
            "needs_background": "light"
          }
        }
      ]
    },
    {
      "cell_type": "code",
      "metadata": {
        "colab": {
          "resources": {
            "http://localhost:8080/nbextensions/google.colab/files.js": {
              "data": "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",
              "ok": true,
              "headers": [
                [
                  "content-type",
                  "application/javascript"
                ]
              ],
              "status": 200,
              "status_text": ""
            }
          },
          "base_uri": "https://localhost:8080/",
          "height": 76
        },
        "id": "TMglNIsrA6us",
        "outputId": "6d52fffa-2908-4c03-9ce6-82d7d40378c7"
      },
      "source": [
        "from google.colab import files\n",
        "\n",
        "upload = files.upload()"
      ],
      "execution_count": null,
      "outputs": [
        {
          "output_type": "display_data",
          "data": {
            "text/html": [
              "\n",
              "     <input type=\"file\" id=\"files-17e19d4a-fa67-4034-a14e-8678cc57f12a\" name=\"files[]\" multiple disabled\n",
              "        style=\"border:none\" />\n",
              "     <output id=\"result-17e19d4a-fa67-4034-a14e-8678cc57f12a\">\n",
              "      Upload widget is only available when the cell has been executed in the\n",
              "      current browser session. Please rerun this cell to enable.\n",
              "      </output>\n",
              "      <script src=\"/nbextensions/google.colab/files.js\"></script> "
            ],
            "text/plain": [
              "<IPython.core.display.HTML object>"
            ]
          },
          "metadata": {
            "tags": []
          }
        },
        {
          "output_type": "stream",
          "text": [
            "Saving 캡처.JPG to 캡처 (2).JPG\n"
          ],
          "name": "stdout"
        }
      ]
    },
    {
      "cell_type": "code",
      "metadata": {
        "colab": {
          "base_uri": "https://localhost:8080/"
        },
        "id": "EIfx5N8aBMap",
        "outputId": "035a91fc-2f43-40fb-ff86-123b4e7211d3"
      },
      "source": [
        "ls"
      ],
      "execution_count": null,
      "outputs": [
        {
          "output_type": "stream",
          "text": [
            "'캡처 (1).JPG'  '캡처 (2).JPG'   캡처.JPG   \u001b[0m\u001b[01;34msample_data\u001b[0m/\n"
          ],
          "name": "stdout"
        }
      ]
    },
    {
      "cell_type": "code",
      "metadata": {
        "id": "SLuLHxJNBOxd"
      },
      "source": [
        "import cv2\n",
        "image = cv2.imread('캡처 (2).JPG',\n",
        "                   cv2.IMREAD_GRAYSCALE)"
      ],
      "execution_count": null,
      "outputs": []
    },
    {
      "cell_type": "code",
      "metadata": {
        "colab": {
          "base_uri": "https://localhost:8080/",
          "height": 287
        },
        "id": "Z1esZOb6BgQo",
        "outputId": "1730c942-a8e1-4297-c215-6776868ef171"
      },
      "source": [
        "plt.imshow(image, cmap=plt.cm.gray)"
      ],
      "execution_count": null,
      "outputs": [
        {
          "output_type": "execute_result",
          "data": {
            "text/plain": [
              "<matplotlib.image.AxesImage at 0x7fbf41ec7080>"
            ]
          },
          "metadata": {
            "tags": []
          },
          "execution_count": 72
        },
        {
          "output_type": "display_data",
          "data": {
            "image/png": "[encoded data removed]",
            "text/plain": [
              "<Figure size 432x288 with 1 Axes>"
            ]
          },
          "metadata": {
            "tags": [],
            "needs_background": "light"
          }
        }
      ]
    },
    {
      "cell_type": "code",
      "metadata": {
        "id": "PfHCiFN0CIvV"
      },
      "source": [
        "image_resized = cv2.resize(image, dsize=(28,28), interpolation=cv2.INTER_AREA)"
      ],
      "execution_count": null,
      "outputs": []
    },
    {
      "cell_type": "code",
      "metadata": {
        "colab": {
          "base_uri": "https://localhost:8080/"
        },
        "id": "7JCBeN4XBmXY",
        "outputId": "13e4d1f0-9b05-4bd8-b74b-b574bfdb90d7"
      },
      "source": [
        "print(image.shape)\n",
        "\n",
        "image_reshaped = image_resized.reshape(28,28,1)\n",
        "print(image_reshaped.shape)"
      ],
      "execution_count": null,
      "outputs": [
        {
          "output_type": "stream",
          "text": [
            "(231, 226)\n",
            "(28, 28, 1)\n"
          ],
          "name": "stdout"
        }
      ]
    },
    {
      "cell_type": "code",
      "metadata": {
        "colab": {
          "base_uri": "https://localhost:8080/"
        },
        "id": "XeeMzPQkCbOO",
        "outputId": "1c75be8b-74e5-4df5-e85f-bfeae7a4c3ed"
      },
      "source": [
        "print(model.predict([image_reshaped.reshape(1, 28, 28,1)]))"
      ],
      "execution_count": null,
      "outputs": [
        {
          "output_type": "stream",
          "text": [
            "[[0. 0. 0. 0. 0. 0. 0. 0. 1. 0.]]\n"
          ],
          "name": "stdout"
        }
      ]
    }
  ]
}