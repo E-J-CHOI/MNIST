{
  "nbformat": 4,
  "nbformat_minor": 0,
  "metadata": {
    "kernelspec": {
      "display_name": "Python 3",
      "language": "python",
      "name": "python3"
    },
    "language_info": {
      "codemirror_mode": {
        "name": "ipython",
        "version": 3
      },
      "file_extension": ".py",
      "mimetype": "text/x-python",
      "name": "python",
      "nbconvert_exporter": "python",
      "pygments_lexer": "ipython3",
      "version": "3.6.5"
    },
    "colab": {
      "name": "01_MNIST_MLP.ipynb",
      "provenance": [],
      "collapsed_sections": []
    }
  },
  "cells": [
    {
      "cell_type": "markdown",
      "metadata": {
        "id": "0EA1u4vCXxyz"
      },
      "source": [
        "### 첫번째 실습. Keras 모델 생성/학습 - MNIST : MLP\n",
        "[Keras Dataset](https://keras.io/ko/datasets/#mnist)"
      ]
    },
    {
      "cell_type": "code",
      "metadata": {
        "id": "4Lau80lSr_Vp"
      },
      "source": [
        "import numpy as np\n",
        "import matplotlib.pyplot as plt"
      ],
      "execution_count": null,
      "outputs": []
    },
    {
      "cell_type": "code",
      "metadata": {
        "id": "9TIg2lB4Xxy2",
        "colab": {
          "base_uri": "https://localhost:8080/"
        },
        "outputId": "9b1f3a5e-26b9-4353-c7f5-dc8b5159cfd3"
      },
      "source": [
        "# 1. 데이터 불러오기\n",
        "from keras.datasets import mnist\n",
        "\n",
        "(X_train, y_train), (X_test, y_test) = mnist.load_data()\n",
        "print('X_train.shape', X_train.shape)\n",
        "print('y_train.shape', y_test.shape)\n",
        "print('X_test.shape', X_train.shape)\n",
        "print('y_test.shape', y_test.shape)"
      ],
      "execution_count": null,
      "outputs": [
        {
          "output_type": "stream",
          "text": [
            "X_train.shape (60000, 28, 28)\n",
            "y_train.shape (10000,)\n",
            "X_test.shape (60000, 28, 28)\n",
            "y_test.shape (10000,)\n"
          ],
          "name": "stdout"
        }
      ]
    },
    {
      "cell_type": "code",
      "metadata": {
        "id": "MmGb35gTXxzD",
        "colab": {
          "base_uri": "https://localhost:8080/"
        },
        "outputId": "ea8e6da8-60d7-425b-a844-c84624c767fa"
      },
      "source": [
        "print(X_train[0])"
      ],
      "execution_count": null,
      "outputs": [
        {
          "output_type": "stream",
          "text": [
            "[[  0   0   0   0   0   0   0   0   0   0   0   0   0   0   0   0   0   0\n",
            "    0   0   0   0   0   0   0   0   0   0]\n",
            " [  0   0   0   0   0   0   0   0   0   0   0   0   0   0   0   0   0   0\n",
            "    0   0   0   0   0   0   0   0   0   0]\n",
            " [  0   0   0   0   0   0   0   0   0   0   0   0   0   0   0   0   0   0\n",
            "    0   0   0   0   0   0   0   0   0   0]\n",
            " [  0   0   0   0   0   0   0   0   0   0   0   0   0   0   0   0   0   0\n",
            "    0   0   0   0   0   0   0   0   0   0]\n",
            " [  0   0   0   0   0   0   0   0   0   0   0   0   0   0   0   0   0   0\n",
            "    0   0   0   0   0   0   0   0   0   0]\n",
            " [  0   0   0   0   0   0   0   0   0   0   0   0   3  18  18  18 126 136\n",
            "  175  26 166 255 247 127   0   0   0   0]\n",
            " [  0   0   0   0   0   0   0   0  30  36  94 154 170 253 253 253 253 253\n",
            "  225 172 253 242 195  64   0   0   0   0]\n",
            " [  0   0   0   0   0   0   0  49 238 253 253 253 253 253 253 253 253 251\n",
            "   93  82  82  56  39   0   0   0   0   0]\n",
            " [  0   0   0   0   0   0   0  18 219 253 253 253 253 253 198 182 247 241\n",
            "    0   0   0   0   0   0   0   0   0   0]\n",
            " [  0   0   0   0   0   0   0   0  80 156 107 253 253 205  11   0  43 154\n",
            "    0   0   0   0   0   0   0   0   0   0]\n",
            " [  0   0   0   0   0   0   0   0   0  14   1 154 253  90   0   0   0   0\n",
            "    0   0   0   0   0   0   0   0   0   0]\n",
            " [  0   0   0   0   0   0   0   0   0   0   0 139 253 190   2   0   0   0\n",
            "    0   0   0   0   0   0   0   0   0   0]\n",
            " [  0   0   0   0   0   0   0   0   0   0   0  11 190 253  70   0   0   0\n",
            "    0   0   0   0   0   0   0   0   0   0]\n",
            " [  0   0   0   0   0   0   0   0   0   0   0   0  35 241 225 160 108   1\n",
            "    0   0   0   0   0   0   0   0   0   0]\n",
            " [  0   0   0   0   0   0   0   0   0   0   0   0   0  81 240 253 253 119\n",
            "   25   0   0   0   0   0   0   0   0   0]\n",
            " [  0   0   0   0   0   0   0   0   0   0   0   0   0   0  45 186 253 253\n",
            "  150  27   0   0   0   0   0   0   0   0]\n",
            " [  0   0   0   0   0   0   0   0   0   0   0   0   0   0   0  16  93 252\n",
            "  253 187   0   0   0   0   0   0   0   0]\n",
            " [  0   0   0   0   0   0   0   0   0   0   0   0   0   0   0   0   0 249\n",
            "  253 249  64   0   0   0   0   0   0   0]\n",
            " [  0   0   0   0   0   0   0   0   0   0   0   0   0   0  46 130 183 253\n",
            "  253 207   2   0   0   0   0   0   0   0]\n",
            " [  0   0   0   0   0   0   0   0   0   0   0   0  39 148 229 253 253 253\n",
            "  250 182   0   0   0   0   0   0   0   0]\n",
            " [  0   0   0   0   0   0   0   0   0   0  24 114 221 253 253 253 253 201\n",
            "   78   0   0   0   0   0   0   0   0   0]\n",
            " [  0   0   0   0   0   0   0   0  23  66 213 253 253 253 253 198  81   2\n",
            "    0   0   0   0   0   0   0   0   0   0]\n",
            " [  0   0   0   0   0   0  18 171 219 253 253 253 253 195  80   9   0   0\n",
            "    0   0   0   0   0   0   0   0   0   0]\n",
            " [  0   0   0   0  55 172 226 253 253 253 253 244 133  11   0   0   0   0\n",
            "    0   0   0   0   0   0   0   0   0   0]\n",
            " [  0   0   0   0 136 253 253 253 212 135 132  16   0   0   0   0   0   0\n",
            "    0   0   0   0   0   0   0   0   0   0]\n",
            " [  0   0   0   0   0   0   0   0   0   0   0   0   0   0   0   0   0   0\n",
            "    0   0   0   0   0   0   0   0   0   0]\n",
            " [  0   0   0   0   0   0   0   0   0   0   0   0   0   0   0   0   0   0\n",
            "    0   0   0   0   0   0   0   0   0   0]\n",
            " [  0   0   0   0   0   0   0   0   0   0   0   0   0   0   0   0   0   0\n",
            "    0   0   0   0   0   0   0   0   0   0]]\n"
          ],
          "name": "stdout"
        }
      ]
    },
    {
      "cell_type": "code",
      "metadata": {
        "colab": {
          "base_uri": "https://localhost:8080/",
          "height": 283
        },
        "id": "CQiWTlzDvx4U",
        "outputId": "21788422-0434-4dbd-92d6-a11e90195aeb"
      },
      "source": [
        "# 2. 이미지 데이터 확인\n",
        "plt.imshow(X_train[0], cmap='Greys')"
      ],
      "execution_count": null,
      "outputs": [
        {
          "output_type": "execute_result",
          "data": {
            "text/plain": [
              "<matplotlib.image.AxesImage at 0x7f24bb1826a0>"
            ]
          },
          "metadata": {
            "tags": []
          },
          "execution_count": 33
        },
        {
          "output_type": "display_data",
          "data": {
            "image/png": "[encoded data removed]",
            "text/plain": [
              "<Figure size 432x288 with 1 Axes>"
            ]
          },
          "metadata": {
            "tags": [],
            "needs_background": "light"
          }
        }
      ]
    },
    {
      "cell_type": "code",
      "metadata": {
        "id": "nosoxNNjXxzP",
        "colab": {
          "base_uri": "https://localhost:8080/"
        },
        "outputId": "af3e42d8-c52b-4024-b430-315ad4a04967"
      },
      "source": [
        "# 3-1. 이미지 데이터 전처리 : 2차원->1차원 \n",
        "print(X_train[0].shape)\n",
        "X_train_reshaped = X_train.reshape(-1, 28*28)\n",
        "X_test_reshaped = X_test.reshape(-1, 28*28)\n",
        "print('X_train_reshaped.shape', X_train_reshaped.shape)\n",
        "print('X_test_reshaped.shape',X_test_reshaped.shape)"
      ],
      "execution_count": null,
      "outputs": [
        {
          "output_type": "stream",
          "text": [
            "(28, 28)\n",
            "X_train_reshaped.shape (60000, 784)\n",
            "X_test_reshaped.shape (10000, 784)\n"
          ],
          "name": "stdout"
        }
      ]
    },
    {
      "cell_type": "code",
      "metadata": {
        "colab": {
          "base_uri": "https://localhost:8080/"
        },
        "id": "jyZzpVyUq6Yr",
        "outputId": "06533610-fc7c-4b60-bb82-0781d35cc786"
      },
      "source": [
        "print(X_train_reshaped[0])"
      ],
      "execution_count": null,
      "outputs": [
        {
          "output_type": "stream",
          "text": [
            "[  0   0   0   0   0   0   0   0   0   0   0   0   0   0   0   0   0   0\n",
            "   0   0   0   0   0   0   0   0   0   0   0   0   0   0   0   0   0   0\n",
            "   0   0   0   0   0   0   0   0   0   0   0   0   0   0   0   0   0   0\n",
            "   0   0   0   0   0   0   0   0   0   0   0   0   0   0   0   0   0   0\n",
            "   0   0   0   0   0   0   0   0   0   0   0   0   0   0   0   0   0   0\n",
            "   0   0   0   0   0   0   0   0   0   0   0   0   0   0   0   0   0   0\n",
            "   0   0   0   0   0   0   0   0   0   0   0   0   0   0   0   0   0   0\n",
            "   0   0   0   0   0   0   0   0   0   0   0   0   0   0   0   0   0   0\n",
            "   0   0   0   0   0   0   0   0   3  18  18  18 126 136 175  26 166 255\n",
            " 247 127   0   0   0   0   0   0   0   0   0   0   0   0  30  36  94 154\n",
            " 170 253 253 253 253 253 225 172 253 242 195  64   0   0   0   0   0   0\n",
            "   0   0   0   0   0  49 238 253 253 253 253 253 253 253 253 251  93  82\n",
            "  82  56  39   0   0   0   0   0   0   0   0   0   0   0   0  18 219 253\n",
            " 253 253 253 253 198 182 247 241   0   0   0   0   0   0   0   0   0   0\n",
            "   0   0   0   0   0   0   0   0  80 156 107 253 253 205  11   0  43 154\n",
            "   0   0   0   0   0   0   0   0   0   0   0   0   0   0   0   0   0   0\n",
            "   0  14   1 154 253  90   0   0   0   0   0   0   0   0   0   0   0   0\n",
            "   0   0   0   0   0   0   0   0   0   0   0   0   0 139 253 190   2   0\n",
            "   0   0   0   0   0   0   0   0   0   0   0   0   0   0   0   0   0   0\n",
            "   0   0   0   0   0  11 190 253  70   0   0   0   0   0   0   0   0   0\n",
            "   0   0   0   0   0   0   0   0   0   0   0   0   0   0   0   0  35 241\n",
            " 225 160 108   1   0   0   0   0   0   0   0   0   0   0   0   0   0   0\n",
            "   0   0   0   0   0   0   0   0   0  81 240 253 253 119  25   0   0   0\n",
            "   0   0   0   0   0   0   0   0   0   0   0   0   0   0   0   0   0   0\n",
            "   0   0  45 186 253 253 150  27   0   0   0   0   0   0   0   0   0   0\n",
            "   0   0   0   0   0   0   0   0   0   0   0   0   0  16  93 252 253 187\n",
            "   0   0   0   0   0   0   0   0   0   0   0   0   0   0   0   0   0   0\n",
            "   0   0   0   0   0   0   0 249 253 249  64   0   0   0   0   0   0   0\n",
            "   0   0   0   0   0   0   0   0   0   0   0   0   0   0  46 130 183 253\n",
            " 253 207   2   0   0   0   0   0   0   0   0   0   0   0   0   0   0   0\n",
            "   0   0   0   0  39 148 229 253 253 253 250 182   0   0   0   0   0   0\n",
            "   0   0   0   0   0   0   0   0   0   0   0   0  24 114 221 253 253 253\n",
            " 253 201  78   0   0   0   0   0   0   0   0   0   0   0   0   0   0   0\n",
            "   0   0  23  66 213 253 253 253 253 198  81   2   0   0   0   0   0   0\n",
            "   0   0   0   0   0   0   0   0   0   0  18 171 219 253 253 253 253 195\n",
            "  80   9   0   0   0   0   0   0   0   0   0   0   0   0   0   0   0   0\n",
            "  55 172 226 253 253 253 253 244 133  11   0   0   0   0   0   0   0   0\n",
            "   0   0   0   0   0   0   0   0   0   0 136 253 253 253 212 135 132  16\n",
            "   0   0   0   0   0   0   0   0   0   0   0   0   0   0   0   0   0   0\n",
            "   0   0   0   0   0   0   0   0   0   0   0   0   0   0   0   0   0   0\n",
            "   0   0   0   0   0   0   0   0   0   0   0   0   0   0   0   0   0   0\n",
            "   0   0   0   0   0   0   0   0   0   0   0   0   0   0   0   0   0   0\n",
            "   0   0   0   0   0   0   0   0   0   0   0   0   0   0   0   0   0   0\n",
            "   0   0   0   0   0   0   0   0   0   0]\n"
          ],
          "name": "stdout"
        }
      ]
    },
    {
      "cell_type": "code",
      "metadata": {
        "id": "YfiCskEHXxzT",
        "colab": {
          "base_uri": "https://localhost:8080/"
        },
        "outputId": "aeab937c-6690-47ca-a32a-48d122d018ae"
      },
      "source": [
        "# 3-2. 데이터 전처리 : Normalzation \n",
        "\n",
        "X_train_reshaped = (X_train_reshaped - np.mean(X_train_reshaped))/ np.std(X_train_reshaped)\n",
        "X_test_reshaped = (X_test_reshaped - np.mean(X_test_reshaped))/ np.std(X_test_reshaped)\n",
        "print(X_train_reshaped[0])"
      ],
      "execution_count": null,
      "outputs": [
        {
          "output_type": "stream",
          "text": [
            "[-0.42407389 -0.42407389 -0.42407389 -0.42407389 -0.42407389 -0.42407389\n",
            " -0.42407389 -0.42407389 -0.42407389 -0.42407389 -0.42407389 -0.42407389\n",
            " -0.42407389 -0.42407389 -0.42407389 -0.42407389 -0.42407389 -0.42407389\n",
            " -0.42407389 -0.42407389 -0.42407389 -0.42407389 -0.42407389 -0.42407389\n",
            " -0.42407389 -0.42407389 -0.42407389 -0.42407389 -0.42407389 -0.42407389\n",
            " -0.42407389 -0.42407389 -0.42407389 -0.42407389 -0.42407389 -0.42407389\n",
            " -0.42407389 -0.42407389 -0.42407389 -0.42407389 -0.42407389 -0.42407389\n",
            " -0.42407389 -0.42407389 -0.42407389 -0.42407389 -0.42407389 -0.42407389\n",
            " -0.42407389 -0.42407389 -0.42407389 -0.42407389 -0.42407389 -0.42407389\n",
            " -0.42407389 -0.42407389 -0.42407389 -0.42407389 -0.42407389 -0.42407389\n",
            " -0.42407389 -0.42407389 -0.42407389 -0.42407389 -0.42407389 -0.42407389\n",
            " -0.42407389 -0.42407389 -0.42407389 -0.42407389 -0.42407389 -0.42407389\n",
            " -0.42407389 -0.42407389 -0.42407389 -0.42407389 -0.42407389 -0.42407389\n",
            " -0.42407389 -0.42407389 -0.42407389 -0.42407389 -0.42407389 -0.42407389\n",
            " -0.42407389 -0.42407389 -0.42407389 -0.42407389 -0.42407389 -0.42407389\n",
            " -0.42407389 -0.42407389 -0.42407389 -0.42407389 -0.42407389 -0.42407389\n",
            " -0.42407389 -0.42407389 -0.42407389 -0.42407389 -0.42407389 -0.42407389\n",
            " -0.42407389 -0.42407389 -0.42407389 -0.42407389 -0.42407389 -0.42407389\n",
            " -0.42407389 -0.42407389 -0.42407389 -0.42407389 -0.42407389 -0.42407389\n",
            " -0.42407389 -0.42407389 -0.42407389 -0.42407389 -0.42407389 -0.42407389\n",
            " -0.42407389 -0.42407389 -0.42407389 -0.42407389 -0.42407389 -0.42407389\n",
            " -0.42407389 -0.42407389 -0.42407389 -0.42407389 -0.42407389 -0.42407389\n",
            " -0.42407389 -0.42407389 -0.42407389 -0.42407389 -0.42407389 -0.42407389\n",
            " -0.42407389 -0.42407389 -0.42407389 -0.42407389 -0.42407389 -0.42407389\n",
            " -0.42407389 -0.42407389 -0.42407389 -0.42407389 -0.42407389 -0.42407389\n",
            " -0.42407389 -0.42407389 -0.38589016 -0.1949715  -0.1949715  -0.1949715\n",
            "  1.17964286  1.30692197  1.80331049 -0.09314822  1.68875929  2.82154335\n",
            "  2.71972006  1.19237077 -0.42407389 -0.42407389 -0.42407389 -0.42407389\n",
            " -0.42407389 -0.42407389 -0.42407389 -0.42407389 -0.42407389 -0.42407389\n",
            " -0.42407389 -0.42407389 -0.04223657  0.03413089  0.77234972  1.53602436\n",
            "  1.73967093  2.79608752  2.79608752  2.79608752  2.79608752  2.79608752\n",
            "  2.43970602  1.76512675  2.79608752  2.65608051  2.0578687   0.39051239\n",
            " -0.42407389 -0.42407389 -0.42407389 -0.42407389 -0.42407389 -0.42407389\n",
            " -0.42407389 -0.42407389 -0.42407389 -0.42407389 -0.42407389  0.19959373\n",
            "  2.60516886  2.79608752  2.79608752  2.79608752  2.79608752  2.79608752\n",
            "  2.79608752  2.79608752  2.79608752  2.7706317   0.7596218   0.61961479\n",
            "  0.61961479  0.28868911  0.07231462 -0.42407389 -0.42407389 -0.42407389\n",
            " -0.42407389 -0.42407389 -0.42407389 -0.42407389 -0.42407389 -0.42407389\n",
            " -0.42407389 -0.42407389 -0.42407389 -0.1949715   2.36333856  2.79608752\n",
            "  2.79608752  2.79608752  2.79608752  2.79608752  2.09605243  1.89240586\n",
            "  2.71972006  2.6433526  -0.42407389 -0.42407389 -0.42407389 -0.42407389\n",
            " -0.42407389 -0.42407389 -0.42407389 -0.42407389 -0.42407389 -0.42407389\n",
            " -0.42407389 -0.42407389 -0.42407389 -0.42407389 -0.42407389 -0.42407389\n",
            " -0.42407389 -0.42407389  0.59415897  1.56148018  0.93781256  2.79608752\n",
            "  2.79608752  2.18514781 -0.28406688 -0.42407389  0.12322627  1.53602436\n",
            " -0.42407389 -0.42407389 -0.42407389 -0.42407389 -0.42407389 -0.42407389\n",
            " -0.42407389 -0.42407389 -0.42407389 -0.42407389 -0.42407389 -0.42407389\n",
            " -0.42407389 -0.42407389 -0.42407389 -0.42407389 -0.42407389 -0.42407389\n",
            " -0.42407389 -0.24588314 -0.41134598  1.53602436  2.79608752  0.72143807\n",
            " -0.42407389 -0.42407389 -0.42407389 -0.42407389 -0.42407389 -0.42407389\n",
            " -0.42407389 -0.42407389 -0.42407389 -0.42407389 -0.42407389 -0.42407389\n",
            " -0.42407389 -0.42407389 -0.42407389 -0.42407389 -0.42407389 -0.42407389\n",
            " -0.42407389 -0.42407389 -0.42407389 -0.42407389 -0.42407389 -0.42407389\n",
            " -0.42407389  1.3451057   2.79608752  1.99422915 -0.39861807 -0.42407389\n",
            " -0.42407389 -0.42407389 -0.42407389 -0.42407389 -0.42407389 -0.42407389\n",
            " -0.42407389 -0.42407389 -0.42407389 -0.42407389 -0.42407389 -0.42407389\n",
            " -0.42407389 -0.42407389 -0.42407389 -0.42407389 -0.42407389 -0.42407389\n",
            " -0.42407389 -0.42407389 -0.42407389 -0.42407389 -0.42407389 -0.28406688\n",
            "  1.99422915  2.79608752  0.46687986 -0.42407389 -0.42407389 -0.42407389\n",
            " -0.42407389 -0.42407389 -0.42407389 -0.42407389 -0.42407389 -0.42407389\n",
            " -0.42407389 -0.42407389 -0.42407389 -0.42407389 -0.42407389 -0.42407389\n",
            " -0.42407389 -0.42407389 -0.42407389 -0.42407389 -0.42407389 -0.42407389\n",
            " -0.42407389 -0.42407389 -0.42407389 -0.42407389  0.02140298  2.6433526\n",
            "  2.43970602  1.61239182  0.95054047 -0.41134598 -0.42407389 -0.42407389\n",
            " -0.42407389 -0.42407389 -0.42407389 -0.42407389 -0.42407389 -0.42407389\n",
            " -0.42407389 -0.42407389 -0.42407389 -0.42407389 -0.42407389 -0.42407389\n",
            " -0.42407389 -0.42407389 -0.42407389 -0.42407389 -0.42407389 -0.42407389\n",
            " -0.42407389 -0.42407389 -0.42407389  0.60688688  2.63062468  2.79608752\n",
            "  2.79608752  1.09054748 -0.10587613 -0.42407389 -0.42407389 -0.42407389\n",
            " -0.42407389 -0.42407389 -0.42407389 -0.42407389 -0.42407389 -0.42407389\n",
            " -0.42407389 -0.42407389 -0.42407389 -0.42407389 -0.42407389 -0.42407389\n",
            " -0.42407389 -0.42407389 -0.42407389 -0.42407389 -0.42407389 -0.42407389\n",
            " -0.42407389 -0.42407389  0.14868209  1.9433175   2.79608752  2.79608752\n",
            "  1.48511272 -0.0804203  -0.42407389 -0.42407389 -0.42407389 -0.42407389\n",
            " -0.42407389 -0.42407389 -0.42407389 -0.42407389 -0.42407389 -0.42407389\n",
            " -0.42407389 -0.42407389 -0.42407389 -0.42407389 -0.42407389 -0.42407389\n",
            " -0.42407389 -0.42407389 -0.42407389 -0.42407389 -0.42407389 -0.42407389\n",
            " -0.42407389 -0.22042732  0.7596218   2.78335961  2.79608752  1.95604542\n",
            " -0.42407389 -0.42407389 -0.42407389 -0.42407389 -0.42407389 -0.42407389\n",
            " -0.42407389 -0.42407389 -0.42407389 -0.42407389 -0.42407389 -0.42407389\n",
            " -0.42407389 -0.42407389 -0.42407389 -0.42407389 -0.42407389 -0.42407389\n",
            " -0.42407389 -0.42407389 -0.42407389 -0.42407389 -0.42407389 -0.42407389\n",
            " -0.42407389  2.74517588  2.79608752  2.74517588  0.39051239 -0.42407389\n",
            " -0.42407389 -0.42407389 -0.42407389 -0.42407389 -0.42407389 -0.42407389\n",
            " -0.42407389 -0.42407389 -0.42407389 -0.42407389 -0.42407389 -0.42407389\n",
            " -0.42407389 -0.42407389 -0.42407389 -0.42407389 -0.42407389 -0.42407389\n",
            " -0.42407389 -0.42407389  0.16141     1.2305545   1.90513377  2.79608752\n",
            "  2.79608752  2.21060363 -0.39861807 -0.42407389 -0.42407389 -0.42407389\n",
            " -0.42407389 -0.42407389 -0.42407389 -0.42407389 -0.42407389 -0.42407389\n",
            " -0.42407389 -0.42407389 -0.42407389 -0.42407389 -0.42407389 -0.42407389\n",
            " -0.42407389 -0.42407389 -0.42407389 -0.42407389  0.07231462  1.4596569\n",
            "  2.49061767  2.79608752  2.79608752  2.79608752  2.75790379  1.89240586\n",
            " -0.42407389 -0.42407389 -0.42407389 -0.42407389 -0.42407389 -0.42407389\n",
            " -0.42407389 -0.42407389 -0.42407389 -0.42407389 -0.42407389 -0.42407389\n",
            " -0.42407389 -0.42407389 -0.42407389 -0.42407389 -0.42407389 -0.42407389\n",
            " -0.11860404  1.02690793  2.38879438  2.79608752  2.79608752  2.79608752\n",
            "  2.79608752  2.13423617  0.56870314 -0.42407389 -0.42407389 -0.42407389\n",
            " -0.42407389 -0.42407389 -0.42407389 -0.42407389 -0.42407389 -0.42407389\n",
            " -0.42407389 -0.42407389 -0.42407389 -0.42407389 -0.42407389 -0.42407389\n",
            " -0.42407389 -0.42407389 -0.13133195  0.41596821  2.28697109  2.79608752\n",
            "  2.79608752  2.79608752  2.79608752  2.09605243  0.60688688 -0.39861807\n",
            " -0.42407389 -0.42407389 -0.42407389 -0.42407389 -0.42407389 -0.42407389\n",
            " -0.42407389 -0.42407389 -0.42407389 -0.42407389 -0.42407389 -0.42407389\n",
            " -0.42407389 -0.42407389 -0.42407389 -0.42407389 -0.1949715   1.75239884\n",
            "  2.36333856  2.79608752  2.79608752  2.79608752  2.79608752  2.0578687\n",
            "  0.59415897 -0.3095227  -0.42407389 -0.42407389 -0.42407389 -0.42407389\n",
            " -0.42407389 -0.42407389 -0.42407389 -0.42407389 -0.42407389 -0.42407389\n",
            " -0.42407389 -0.42407389 -0.42407389 -0.42407389 -0.42407389 -0.42407389\n",
            "  0.2759612   1.76512675  2.45243393  2.79608752  2.79608752  2.79608752\n",
            "  2.79608752  2.68153633  1.26873823 -0.28406688 -0.42407389 -0.42407389\n",
            " -0.42407389 -0.42407389 -0.42407389 -0.42407389 -0.42407389 -0.42407389\n",
            " -0.42407389 -0.42407389 -0.42407389 -0.42407389 -0.42407389 -0.42407389\n",
            " -0.42407389 -0.42407389 -0.42407389 -0.42407389  1.30692197  2.79608752\n",
            "  2.79608752  2.79608752  2.27424318  1.29419406  1.25601032 -0.22042732\n",
            " -0.42407389 -0.42407389 -0.42407389 -0.42407389 -0.42407389 -0.42407389\n",
            " -0.42407389 -0.42407389 -0.42407389 -0.42407389 -0.42407389 -0.42407389\n",
            " -0.42407389 -0.42407389 -0.42407389 -0.42407389 -0.42407389 -0.42407389\n",
            " -0.42407389 -0.42407389 -0.42407389 -0.42407389 -0.42407389 -0.42407389\n",
            " -0.42407389 -0.42407389 -0.42407389 -0.42407389 -0.42407389 -0.42407389\n",
            " -0.42407389 -0.42407389 -0.42407389 -0.42407389 -0.42407389 -0.42407389\n",
            " -0.42407389 -0.42407389 -0.42407389 -0.42407389 -0.42407389 -0.42407389\n",
            " -0.42407389 -0.42407389 -0.42407389 -0.42407389 -0.42407389 -0.42407389\n",
            " -0.42407389 -0.42407389 -0.42407389 -0.42407389 -0.42407389 -0.42407389\n",
            " -0.42407389 -0.42407389 -0.42407389 -0.42407389 -0.42407389 -0.42407389\n",
            " -0.42407389 -0.42407389 -0.42407389 -0.42407389 -0.42407389 -0.42407389\n",
            " -0.42407389 -0.42407389 -0.42407389 -0.42407389 -0.42407389 -0.42407389\n",
            " -0.42407389 -0.42407389 -0.42407389 -0.42407389 -0.42407389 -0.42407389\n",
            " -0.42407389 -0.42407389 -0.42407389 -0.42407389 -0.42407389 -0.42407389\n",
            " -0.42407389 -0.42407389 -0.42407389 -0.42407389 -0.42407389 -0.42407389\n",
            " -0.42407389 -0.42407389 -0.42407389 -0.42407389 -0.42407389 -0.42407389\n",
            " -0.42407389 -0.42407389 -0.42407389 -0.42407389]\n"
          ],
          "name": "stdout"
        }
      ]
    },
    {
      "cell_type": "code",
      "metadata": {
        "id": "TKtO7TUoXxzX",
        "colab": {
          "base_uri": "https://localhost:8080/"
        },
        "outputId": "02c62d98-b746-4b4f-95b4-d5ffbb66a541"
      },
      "source": [
        "# 4. Label 전처리 (one-hot encoding) \n",
        "from keras.utils import to_categorical\n",
        "\n",
        "print(y_train[:10])\n",
        "\n",
        "y_train_encoded = to_categorical(y_train)\n",
        "y_test_encoded = to_categorical(y_test)\n",
        "\n",
        "print(y_train_encoded[:10])\n",
        "#one-hot encoding-다른 방법도 많음"
      ],
      "execution_count": null,
      "outputs": [
        {
          "output_type": "stream",
          "text": [
            "[5 0 4 1 9 2 1 3 1 4]\n",
            "[[0. 0. 0. 0. 0. 1. 0. 0. 0. 0.]\n",
            " [1. 0. 0. 0. 0. 0. 0. 0. 0. 0.]\n",
            " [0. 0. 0. 0. 1. 0. 0. 0. 0. 0.]\n",
            " [0. 1. 0. 0. 0. 0. 0. 0. 0. 0.]\n",
            " [0. 0. 0. 0. 0. 0. 0. 0. 0. 1.]\n",
            " [0. 0. 1. 0. 0. 0. 0. 0. 0. 0.]\n",
            " [0. 1. 0. 0. 0. 0. 0. 0. 0. 0.]\n",
            " [0. 0. 0. 1. 0. 0. 0. 0. 0. 0.]\n",
            " [0. 1. 0. 0. 0. 0. 0. 0. 0. 0.]\n",
            " [0. 0. 0. 0. 1. 0. 0. 0. 0. 0.]]\n"
          ],
          "name": "stdout"
        }
      ]
    },
    {
      "cell_type": "code",
      "metadata": {
        "colab": {
          "base_uri": "https://localhost:8080/"
        },
        "id": "IGyGLq12ux3P",
        "outputId": "9c504a6e-8c71-4e58-f400-f581a24f4562"
      },
      "source": [
        "type(y_train)"
      ],
      "execution_count": null,
      "outputs": [
        {
          "output_type": "execute_result",
          "data": {
            "text/plain": [
              "numpy.ndarray"
            ]
          },
          "metadata": {
            "tags": []
          },
          "execution_count": 23
        }
      ]
    },
    {
      "cell_type": "code",
      "metadata": {
        "colab": {
          "base_uri": "https://localhost:8080/"
        },
        "id": "nh_osCihvGXT",
        "outputId": "18d5aef1-5b58-4a76-a618-837ec74d8cd1"
      },
      "source": [
        "type(y_train[0])"
      ],
      "execution_count": null,
      "outputs": [
        {
          "output_type": "execute_result",
          "data": {
            "text/plain": [
              "numpy.uint8"
            ]
          },
          "metadata": {
            "tags": []
          },
          "execution_count": 24
        }
      ]
    },
    {
      "cell_type": "code",
      "metadata": {
        "colab": {
          "base_uri": "https://localhost:8080/"
        },
        "id": "y_lVNwq-vNY6",
        "outputId": "a5b11753-7456-4bcf-c8a9-ceb81f081d88"
      },
      "source": [
        "type(y_train_encoded)"
      ],
      "execution_count": null,
      "outputs": [
        {
          "output_type": "execute_result",
          "data": {
            "text/plain": [
              "numpy.ndarray"
            ]
          },
          "metadata": {
            "tags": []
          },
          "execution_count": 26
        }
      ]
    },
    {
      "cell_type": "code",
      "metadata": {
        "colab": {
          "base_uri": "https://localhost:8080/"
        },
        "id": "HriwkAe2vH67",
        "outputId": "29f82869-6c03-483a-b30c-249583d6fbda"
      },
      "source": [
        "type(y_train_encoded[0][0])"
      ],
      "execution_count": null,
      "outputs": [
        {
          "output_type": "execute_result",
          "data": {
            "text/plain": [
              "numpy.float32"
            ]
          },
          "metadata": {
            "tags": []
          },
          "execution_count": 25
        }
      ]
    },
    {
      "cell_type": "code",
      "metadata": {
        "id": "rbn2UpioXxzc",
        "colab": {
          "base_uri": "https://localhost:8080/"
        },
        "outputId": "ebd383c5-ec6d-40fe-8d8d-de34a0902c68"
      },
      "source": [
        "# 5. 모델 생성 : MLP\n",
        "from tensorflow import keras\n",
        "from keras import layers\n",
        "\n",
        "model = keras.Sequential()\n",
        "model.add(layers.Dense(512,input_dim=784, activation='relu'))\n",
        "model.add(layers.Dense(10, activation= 'softmax'))\n",
        "\n",
        "model.summary()\n"
      ],
      "execution_count": null,
      "outputs": [
        {
          "output_type": "stream",
          "text": [
            "Model: \"sequential_5\"\n",
            "_________________________________________________________________\n",
            "Layer (type)                 Output Shape              Param #   \n",
            "=================================================================\n",
            "dense_9 (Dense)              (None, 512)               401920    \n",
            "_________________________________________________________________\n",
            "dense_10 (Dense)             (None, 10)                5130      \n",
            "=================================================================\n",
            "Total params: 407,050\n",
            "Trainable params: 407,050\n",
            "Non-trainable params: 0\n",
            "_________________________________________________________________\n"
          ],
          "name": "stdout"
        }
      ]
    },
    {
      "cell_type": "code",
      "metadata": {
        "id": "octZbMRKXxzf"
      },
      "source": [
        "# 6. Compile - Optimizer, Loss function 설정\n",
        "model.compile(optimizer='adam',\n",
        "              loss='categorical_crossentropy',\n",
        "              metrics=['accuracy'])"
      ],
      "execution_count": null,
      "outputs": []
    },
    {
      "cell_type": "code",
      "metadata": {
        "id": "FnZlXtfUXxzj",
        "colab": {
          "base_uri": "https://localhost:8080/"
        },
        "outputId": "9fcd5e2b-6724-4696-82b7-4ea9eb2dfe37"
      },
      "source": [
        "# 7. 모델 학습시키기\n",
        "batch_size = 64\n",
        "epochs = 50\n",
        "\n",
        "history = model.fit(X_train_reshaped, y_train_encoded,\n",
        "                    validation_split=0.2,\n",
        "                    batch_size=batch_size,\n",
        "                    epochs=epochs)"
      ],
      "execution_count": null,
      "outputs": [
        {
          "output_type": "stream",
          "text": [
            "Epoch 1/50\n",
            "750/750 [==============================] - 7s 9ms/step - loss: 0.2136 - accuracy: 0.9349 - val_loss: 0.1138 - val_accuracy: 0.9659\n",
            "Epoch 2/50\n",
            "750/750 [==============================] - 4s 5ms/step - loss: 0.0872 - accuracy: 0.9731 - val_loss: 0.0988 - val_accuracy: 0.9705\n",
            "Epoch 3/50\n",
            "750/750 [==============================] - 4s 5ms/step - loss: 0.0567 - accuracy: 0.9824 - val_loss: 0.0896 - val_accuracy: 0.9736\n",
            "Epoch 4/50\n",
            "750/750 [==============================] - 4s 5ms/step - loss: 0.0429 - accuracy: 0.9858 - val_loss: 0.0845 - val_accuracy: 0.9765\n",
            "Epoch 5/50\n",
            "750/750 [==============================] - 4s 5ms/step - loss: 0.0322 - accuracy: 0.9894 - val_loss: 0.0930 - val_accuracy: 0.9761\n",
            "Epoch 6/50\n",
            "750/750 [==============================] - 4s 5ms/step - loss: 0.0262 - accuracy: 0.9914 - val_loss: 0.0917 - val_accuracy: 0.9778\n",
            "Epoch 7/50\n",
            "750/750 [==============================] - 4s 5ms/step - loss: 0.0258 - accuracy: 0.9914 - val_loss: 0.1012 - val_accuracy: 0.9737\n",
            "Epoch 8/50\n",
            "750/750 [==============================] - 4s 5ms/step - loss: 0.0238 - accuracy: 0.9917 - val_loss: 0.1043 - val_accuracy: 0.9750\n",
            "Epoch 9/50\n",
            "750/750 [==============================] - 4s 5ms/step - loss: 0.0173 - accuracy: 0.9943 - val_loss: 0.1063 - val_accuracy: 0.9766\n",
            "Epoch 10/50\n",
            "750/750 [==============================] - 4s 5ms/step - loss: 0.0130 - accuracy: 0.9958 - val_loss: 0.1050 - val_accuracy: 0.9785\n",
            "Epoch 11/50\n",
            "750/750 [==============================] - 4s 5ms/step - loss: 0.0181 - accuracy: 0.9939 - val_loss: 0.1002 - val_accuracy: 0.9803\n",
            "Epoch 12/50\n",
            "750/750 [==============================] - 4s 5ms/step - loss: 0.0126 - accuracy: 0.9958 - val_loss: 0.1086 - val_accuracy: 0.9770\n",
            "Epoch 13/50\n",
            "750/750 [==============================] - 4s 5ms/step - loss: 0.0173 - accuracy: 0.9941 - val_loss: 0.1212 - val_accuracy: 0.9776\n",
            "Epoch 14/50\n",
            "750/750 [==============================] - 4s 5ms/step - loss: 0.0119 - accuracy: 0.9962 - val_loss: 0.1451 - val_accuracy: 0.9740\n",
            "Epoch 15/50\n",
            "750/750 [==============================] - 4s 5ms/step - loss: 0.0135 - accuracy: 0.9954 - val_loss: 0.1071 - val_accuracy: 0.9813\n",
            "Epoch 16/50\n",
            "750/750 [==============================] - 4s 5ms/step - loss: 0.0082 - accuracy: 0.9977 - val_loss: 0.1231 - val_accuracy: 0.9788\n",
            "Epoch 17/50\n",
            "750/750 [==============================] - 4s 5ms/step - loss: 0.0158 - accuracy: 0.9952 - val_loss: 0.1592 - val_accuracy: 0.9720\n",
            "Epoch 18/50\n",
            "750/750 [==============================] - 4s 5ms/step - loss: 0.0117 - accuracy: 0.9966 - val_loss: 0.1146 - val_accuracy: 0.9797\n",
            "Epoch 19/50\n",
            "750/750 [==============================] - 4s 5ms/step - loss: 0.0120 - accuracy: 0.9964 - val_loss: 0.1423 - val_accuracy: 0.9762\n",
            "Epoch 20/50\n",
            "750/750 [==============================] - 4s 5ms/step - loss: 0.0084 - accuracy: 0.9976 - val_loss: 0.1367 - val_accuracy: 0.9781\n",
            "Epoch 21/50\n",
            "750/750 [==============================] - 4s 5ms/step - loss: 0.0134 - accuracy: 0.9959 - val_loss: 0.1535 - val_accuracy: 0.9770\n",
            "Epoch 22/50\n",
            "750/750 [==============================] - 4s 5ms/step - loss: 0.0087 - accuracy: 0.9970 - val_loss: 0.1338 - val_accuracy: 0.9803\n",
            "Epoch 23/50\n",
            "750/750 [==============================] - 4s 5ms/step - loss: 0.0108 - accuracy: 0.9970 - val_loss: 0.1450 - val_accuracy: 0.9810\n",
            "Epoch 24/50\n",
            "750/750 [==============================] - 4s 5ms/step - loss: 0.0095 - accuracy: 0.9971 - val_loss: 0.1435 - val_accuracy: 0.9774\n",
            "Epoch 25/50\n",
            "750/750 [==============================] - 4s 5ms/step - loss: 0.0115 - accuracy: 0.9964 - val_loss: 0.1625 - val_accuracy: 0.9770\n",
            "Epoch 26/50\n",
            "750/750 [==============================] - 4s 5ms/step - loss: 0.0051 - accuracy: 0.9987 - val_loss: 0.1525 - val_accuracy: 0.9772\n",
            "Epoch 27/50\n",
            "750/750 [==============================] - 4s 5ms/step - loss: 0.0128 - accuracy: 0.9968 - val_loss: 0.1663 - val_accuracy: 0.9767\n",
            "Epoch 28/50\n",
            "750/750 [==============================] - 4s 5ms/step - loss: 0.0107 - accuracy: 0.9966 - val_loss: 0.1723 - val_accuracy: 0.9783\n",
            "Epoch 29/50\n",
            "750/750 [==============================] - 4s 5ms/step - loss: 0.0102 - accuracy: 0.9969 - val_loss: 0.1504 - val_accuracy: 0.9808\n",
            "Epoch 30/50\n",
            "750/750 [==============================] - 4s 5ms/step - loss: 0.0064 - accuracy: 0.9981 - val_loss: 0.1631 - val_accuracy: 0.9783\n",
            "Epoch 31/50\n",
            "750/750 [==============================] - 4s 5ms/step - loss: 0.0075 - accuracy: 0.9978 - val_loss: 0.1660 - val_accuracy: 0.9790\n",
            "Epoch 32/50\n",
            "750/750 [==============================] - 4s 5ms/step - loss: 0.0094 - accuracy: 0.9976 - val_loss: 0.1790 - val_accuracy: 0.9776\n",
            "Epoch 33/50\n",
            "750/750 [==============================] - 4s 5ms/step - loss: 0.0079 - accuracy: 0.9980 - val_loss: 0.1633 - val_accuracy: 0.9793\n",
            "Epoch 34/50\n",
            "750/750 [==============================] - 4s 5ms/step - loss: 0.0050 - accuracy: 0.9985 - val_loss: 0.2065 - val_accuracy: 0.9761\n",
            "Epoch 35/50\n",
            "750/750 [==============================] - 4s 5ms/step - loss: 0.0103 - accuracy: 0.9967 - val_loss: 0.1871 - val_accuracy: 0.9780\n",
            "Epoch 36/50\n",
            "750/750 [==============================] - 4s 5ms/step - loss: 0.0071 - accuracy: 0.9979 - val_loss: 0.1919 - val_accuracy: 0.9768\n",
            "Epoch 37/50\n",
            "750/750 [==============================] - 4s 5ms/step - loss: 0.0066 - accuracy: 0.9983 - val_loss: 0.1707 - val_accuracy: 0.9797\n",
            "Epoch 38/50\n",
            "750/750 [==============================] - 4s 5ms/step - loss: 0.0044 - accuracy: 0.9989 - val_loss: 0.2240 - val_accuracy: 0.9755\n",
            "Epoch 39/50\n",
            "750/750 [==============================] - 4s 5ms/step - loss: 0.0124 - accuracy: 0.9967 - val_loss: 0.1975 - val_accuracy: 0.9766\n",
            "Epoch 40/50\n",
            "750/750 [==============================] - 4s 5ms/step - loss: 0.0073 - accuracy: 0.9978 - val_loss: 0.1872 - val_accuracy: 0.9792\n",
            "Epoch 41/50\n",
            "750/750 [==============================] - 4s 5ms/step - loss: 0.0039 - accuracy: 0.9989 - val_loss: 0.2160 - val_accuracy: 0.9766\n",
            "Epoch 42/50\n",
            "750/750 [==============================] - 4s 5ms/step - loss: 0.0072 - accuracy: 0.9983 - val_loss: 0.1976 - val_accuracy: 0.9803\n",
            "Epoch 43/50\n",
            "750/750 [==============================] - 4s 5ms/step - loss: 0.0065 - accuracy: 0.9983 - val_loss: 0.2399 - val_accuracy: 0.9767\n",
            "Epoch 44/50\n",
            "750/750 [==============================] - 4s 5ms/step - loss: 0.0063 - accuracy: 0.9982 - val_loss: 0.2221 - val_accuracy: 0.9787\n",
            "Epoch 45/50\n",
            "750/750 [==============================] - 4s 5ms/step - loss: 0.0110 - accuracy: 0.9977 - val_loss: 0.2144 - val_accuracy: 0.9787\n",
            "Epoch 46/50\n",
            "750/750 [==============================] - 4s 5ms/step - loss: 0.0061 - accuracy: 0.9983 - val_loss: 0.2224 - val_accuracy: 0.9792\n",
            "Epoch 47/50\n",
            "750/750 [==============================] - 4s 5ms/step - loss: 0.0070 - accuracy: 0.9983 - val_loss: 0.1830 - val_accuracy: 0.9818\n",
            "Epoch 48/50\n",
            "750/750 [==============================] - 4s 5ms/step - loss: 0.0038 - accuracy: 0.9990 - val_loss: 0.2240 - val_accuracy: 0.9797\n",
            "Epoch 49/50\n",
            "750/750 [==============================] - 4s 5ms/step - loss: 0.0080 - accuracy: 0.9976 - val_loss: 0.2383 - val_accuracy: 0.9769\n",
            "Epoch 50/50\n",
            "750/750 [==============================] - 4s 5ms/step - loss: 0.0090 - accuracy: 0.9977 - val_loss: 0.2193 - val_accuracy: 0.9790\n"
          ],
          "name": "stdout"
        }
      ]
    },
    {
      "cell_type": "code",
      "metadata": {
        "id": "pgYRoXaJXxzn",
        "colab": {
          "base_uri": "https://localhost:8080/"
        },
        "outputId": "40315235-bf62-4a8d-992c-9e0b5a036f52"
      },
      "source": [
        "# 8. 모델 평가\n",
        "loss_test, acc_test = model.evaluate(X_test_reshaped, y_test_encoded)\n",
        "\n",
        "print('loss_test',loss_test)\n",
        "print('acc_test',acc_test)"
      ],
      "execution_count": null,
      "outputs": [
        {
          "output_type": "stream",
          "text": [
            "313/313 [==============================] - 1s 2ms/step - loss: 0.1880 - accuracy: 0.9806\n",
            "loss_test 0.18803833425045013\n",
            "acc_test 0.9805999994277954\n"
          ],
          "name": "stdout"
        }
      ]
    },
    {
      "cell_type": "code",
      "metadata": {
        "id": "G7kPGgJEXxzv",
        "colab": {
          "base_uri": "https://localhost:8080/",
          "height": 573
        },
        "outputId": "0ca50e94-9c5f-4f6a-912d-2e226dadd5a8"
      },
      "source": [
        "# 9. 학습 시각화\n",
        "plt.plot(history.history['accuracy'])\n",
        "plt.plot(history.history['val_accuracy'])\n",
        "\n",
        "plt.title('Accuracy')\n",
        "plt.ylabel('accuracy')\n",
        "plt.xlabel('epoch')\n",
        "plt.legend(['train', 'val'], loc = 'upper left')\n",
        "plt.show()\n",
        "\n",
        "plt.plot(history.history['loss'])\n",
        "plt.plot(history.history['val_loss'])\n",
        "\n",
        "plt.title('Loss')\n",
        "plt.ylabel('loss')\n",
        "plt.xlabel('epoch')\n",
        "plt.legend(['train', 'val'], loc = 'upper left')\n",
        "plt.show()\n"
      ],
      "execution_count": null,
      "outputs": [
        {
          "output_type": "display_data",
          "data": {
            "image/png": "[encoded data removed]",
            "text/plain": [
              "<Figure size 432x288 with 1 Axes>"
            ]
          },
          "metadata": {
            "tags": [],
            "needs_background": "light"
          }
        },
        {
          "output_type": "display_data",
          "data": {
            "image/png": "[encoded data removed]",
            "text/plain": [
              "<Figure size 432x288 with 1 Axes>"
            ]
          },
          "metadata": {
            "tags": [],
            "needs_background": "light"
          }
        }
      ]
    },
    {
      "cell_type": "code",
      "metadata": {
        "id": "FLhicf8aXxzr",
        "colab": {
          "base_uri": "https://localhost:8080/",
          "height": 677
        },
        "outputId": "4f90df27-9739-4b83-e245-176d8c126d11"
      },
      "source": [
        "# 10. 이미지 랜덤 선택 -> 훈련된 모델로 예측\n",
        "for index in np.random.choice(len(y_test), 3, replace = False):\n",
        "    test_image = X_test[index].reshape(1, 784)\n",
        "    predicted = model.predict(test_image)\n",
        "    label = y_test[index]\n",
        "    result_label = np.where(label == np.amax(label))\n",
        "    result_predicted = np.where(predicted == np.amax(predicted))\n",
        "    title = \"Label value = %s  Predicted value = %s \" % (label, result_predicted[1])\n",
        "    \n",
        "    fig = plt.figure(1, figsize = (3,3))\n",
        "    ax1 = fig.add_axes((0,0,.8,.8))\n",
        "    ax1.set_title(title)\n",
        "    images = X_test\n",
        "    plt.imshow(images[index].reshape(28, 28), cmap = 'Greys', interpolation = 'nearest')\n",
        "    plt.show()\n"
      ],
      "execution_count": null,
      "outputs": [
        {
          "output_type": "display_data",
          "data": {
            "image/png": "[encoded data removed]",
            "text/plain": [
              "<Figure size 216x216 with 1 Axes>"
            ]
          },
          "metadata": {
            "tags": [],
            "needs_background": "light"
          }
        },
        {
          "output_type": "display_data",
          "data": {
            "image/png": "[encoded data removed]",
            "text/plain": [
              "<Figure size 216x216 with 1 Axes>"
            ]
          },
          "metadata": {
            "tags": [],
            "needs_background": "light"
          }
        },
        {
          "output_type": "display_data",
          "data": {
            "image/png": "[encoded data removed]",
            "text/plain": [
              "<Figure size 216x216 with 1 Axes>"
            ]
          },
          "metadata": {
            "tags": [],
            "needs_background": "light"
          }
        }
      ]
    }
  ]
}